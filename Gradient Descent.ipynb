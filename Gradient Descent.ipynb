{
 "cells": [
  {
   "cell_type": "markdown",
   "id": "dc572d7a-b490-4201-8994-4bcce01b3654",
   "metadata": {},
   "source": [
    "# Gradicent Descent"
   ]
  }
 ],
 "metadata": {
  "kernelspec": {
   "display_name": "Julia 1.9.2",
   "language": "julia",
   "name": "julia-1.9"
  },
  "language_info": {
   "file_extension": ".jl",
   "mimetype": "application/julia",
   "name": "julia",
   "version": "1.9.4"
  }
 },
 "nbformat": 4,
 "nbformat_minor": 5
}
