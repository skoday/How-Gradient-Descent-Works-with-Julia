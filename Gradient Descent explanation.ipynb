{
 "cells": [
  {
   "cell_type": "markdown",
   "id": "5e6d5167",
   "metadata": {},
   "source": [
    "# 5.1 Gradient Descent\n",
    "\n",
    "An intuitive choice for descent direction $d$ is the direction of steepest descent.\n",
    "Following the direction of steepest descent is guaranteed to lead to improvement,\n",
    "provided that the objective function is smooth, the step size is sufficiently small,\n",
    "and we are not already at a point where the gradient is zero.1 The direction of\n",
    "steepest descent is the direction opposite the gradient $\\nabla f$ , hence the name gradient\n",
    "descent. For convenience in this chapter, we define\n",
    "\n",
    "$$ g^{(k)} = \\nabla f(x^{(k)}) $$\n",
    "\n",
    "where $x^{(k)}$ is our design point at descent iteration k.\n",
    "In gradient descent, we typically normalize the direction of steepest descent\n",
    "\n",
    "$$ d^{(k)} = - \\frac{g^{(k)}}{||g^{(k)}||} $$\n",
    "\n",
    "Jagged search paths result if we choose a step size that leads to the maximal\n",
    "decrease in $f$. In fact, the next direction will always be orthogonal to the current\n",
    "direction. We can show this as follows:\n",
    "\n",
    "If we optimize the step size at each step, we have\n",
    "\n",
    "$$\\alpha = \\operatorname{argmin}_{\\alpha} f(x^{(k)} + \\alpha d^{(k)}) $$\n",
    "\n",
    "The optimization above implies that the directional derivative equals zero. Ten using the gradient multiplied by the direction to obtain the directional derivative we have\n",
    "\n",
    "$$ \\nabla f(x^{(k)} + \\alpha d^{(k)})^Td^{(k)} $$\n",
    "\n",
    "and we know\n",
    "\n",
    "$$ d^{(k+1)} = - \\frac{\\nabla f(x^{(k)} + \\alpha d^{(k)})}{||\\nabla f(x^{(k)} + \\alpha d^{(k)})||} $$\n",
    "\n",
    "wich mean that $(d^{(k+1)}) ^ T d ^{(k)}$.  \n",
    "Narrow valleys aligned with a descent direction are not an issue. When the\n",
    "descent directions cross over the valley, many steps must be taken in order to\n",
    "make progress along the valley’s floor.\n"
   ]
  }
 ],
 "metadata": {
  "kernelspec": {
   "display_name": "Julia 1.9.3",
   "language": "julia",
   "name": "julia-1.9"
  },
  "language_info": {
   "file_extension": ".jl",
   "mimetype": "application/julia",
   "name": "julia",
   "version": "1.9.3"
  }
 },
 "nbformat": 4,
 "nbformat_minor": 5
}
